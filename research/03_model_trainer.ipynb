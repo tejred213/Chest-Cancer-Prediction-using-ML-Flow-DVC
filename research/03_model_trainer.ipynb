{
 "cells": [
  {
   "cell_type": "code",
   "execution_count": 1,
   "metadata": {},
   "outputs": [],
   "source": [
    "import os"
   ]
  },
  {
   "cell_type": "code",
   "execution_count": 2,
   "metadata": {},
   "outputs": [
    {
     "data": {
      "text/plain": [
       "'/Users/tejasredkar/Developer/Chest-Cancer-Prediction-using-ML-Flow-DVC/research'"
      ]
     },
     "execution_count": 2,
     "metadata": {},
     "output_type": "execute_result"
    }
   ],
   "source": [
    "%pwd"
   ]
  },
  {
   "cell_type": "code",
   "execution_count": 3,
   "metadata": {},
   "outputs": [],
   "source": [
    "os.chdir(\"../\")"
   ]
  },
  {
   "cell_type": "code",
   "execution_count": 4,
   "metadata": {},
   "outputs": [
    {
     "data": {
      "text/plain": [
       "'/Users/tejasredkar/Developer/Chest-Cancer-Prediction-using-ML-Flow-DVC'"
      ]
     },
     "execution_count": 4,
     "metadata": {},
     "output_type": "execute_result"
    }
   ],
   "source": [
    "%pwd"
   ]
  },
  {
   "cell_type": "code",
   "execution_count": 34,
   "metadata": {},
   "outputs": [
    {
     "name": "stdout",
     "output_type": "stream",
     "text": [
      "[2025-01-15 15:14:07,426: INFO: common : yaml file: /Users/tejasredkar/Developer/Chest-Cancer-Prediction-using-ML-Flow-DVC/config/config.yaml loaded successfully]\n",
      "[2025-01-15 15:14:07,433: INFO: common : yaml file: /Users/tejasredkar/Developer/Chest-Cancer-Prediction-using-ML-Flow-DVC/params.yaml loaded successfully]\n",
      "[2025-01-15 15:14:07,434: INFO: common : Directory created: artifacts]\n",
      "[2025-01-15 15:14:07,435: INFO: common : Directory created: artifacts/training]\n",
      "[2025-01-15 15:14:07,511: WARNING: saving_utils : Compiled the loaded model, but the compiled metrics have yet to be built. `model.compile_metrics` will be empty until you train or evaluate the model.]\n",
      "Base model loaded from artifacts/prepare_base_model/base_model_updated.h5\n",
      "Found 68 images belonging to 2 classes.\n",
      "Found 275 images belonging to 2 classes.\n",
      "Starting training for 15 epochs...\n",
      "Epoch 1/15\n"
     ]
    },
    {
     "name": "stderr",
     "output_type": "stream",
     "text": [
      "/opt/anaconda3/envs/cancer-detection/lib/python3.11/site-packages/keras/src/trainers/data_adapters/py_dataset_adapter.py:121: UserWarning: Your `PyDataset` class should call `super().__init__(**kwargs)` in its constructor. `**kwargs` can include `workers`, `use_multiprocessing`, `max_queue_size`. Do not pass these arguments to `fit()`, as they will be ignored.\n",
      "  self._warn_if_super_not_called()\n",
      "/opt/anaconda3/envs/cancer-detection/lib/python3.11/site-packages/tensorflow/python/data/ops/structured_function.py:258: UserWarning: Even though the `tf.config.experimental_run_functions_eagerly` option is set, this option does not apply to tf.data functions. To force eager execution of tf.data functions, please use `tf.data.experimental.enable_debug_mode()`.\n",
      "  warnings.warn(\n"
     ]
    },
    {
     "name": "stdout",
     "output_type": "stream",
     "text": [
      "\u001b[1m17/17\u001b[0m \u001b[32m━━━━━━━━━━━━━━━━━━━━\u001b[0m\u001b[37m\u001b[0m \u001b[1m65s\u001b[0m 4s/step - accuracy: 0.5963 - loss: 1.2420 - val_accuracy: 1.0000 - val_loss: 0.0622\n",
      "Epoch 2/15\n",
      "\u001b[1m 1/17\u001b[0m \u001b[32m━\u001b[0m\u001b[37m━━━━━━━━━━━━━━━━━━━\u001b[0m \u001b[1m1:00\u001b[0m 4s/step - accuracy: 0.8750 - loss: 0.3333"
     ]
    },
    {
     "name": "stderr",
     "output_type": "stream",
     "text": [
      "/opt/anaconda3/envs/cancer-detection/lib/python3.11/site-packages/keras/src/trainers/epoch_iterator.py:107: UserWarning: Your input ran out of data; interrupting training. Make sure that your dataset or generator can generate at least `steps_per_epoch * epochs` batches. You may need to use the `.repeat()` function when building your dataset.\n",
      "  self._interrupted_warning()\n"
     ]
    },
    {
     "name": "stdout",
     "output_type": "stream",
     "text": [
      "\u001b[1m17/17\u001b[0m \u001b[32m━━━━━━━━━━━━━━━━━━━━\u001b[0m\u001b[37m\u001b[0m \u001b[1m8s\u001b[0m 270ms/step - accuracy: 0.8750 - loss: 0.3333 - val_accuracy: 1.0000 - val_loss: 0.0661\n",
      "Epoch 3/15\n",
      "\u001b[1m17/17\u001b[0m \u001b[32m━━━━━━━━━━━━━━━━━━━━\u001b[0m\u001b[37m\u001b[0m \u001b[1m66s\u001b[0m 4s/step - accuracy: 0.8612 - loss: 0.3752 - val_accuracy: 1.0000 - val_loss: 0.0244\n",
      "Epoch 4/15\n",
      "\u001b[1m17/17\u001b[0m \u001b[32m━━━━━━━━━━━━━━━━━━━━\u001b[0m\u001b[37m\u001b[0m \u001b[1m8s\u001b[0m 270ms/step - accuracy: 1.0000 - loss: 0.1059 - val_accuracy: 1.0000 - val_loss: 0.0248\n",
      "Epoch 5/15\n",
      "\u001b[1m17/17\u001b[0m \u001b[32m━━━━━━━━━━━━━━━━━━━━\u001b[0m\u001b[37m\u001b[0m \u001b[1m67s\u001b[0m 4s/step - accuracy: 0.9390 - loss: 0.2047 - val_accuracy: 0.9844 - val_loss: 0.0375\n",
      "Epoch 6/15\n",
      "\u001b[1m17/17\u001b[0m \u001b[32m━━━━━━━━━━━━━━━━━━━━\u001b[0m\u001b[37m\u001b[0m \u001b[1m8s\u001b[0m 284ms/step - accuracy: 0.8750 - loss: 0.2665 - val_accuracy: 0.9844 - val_loss: 0.0385\n",
      "Epoch 7/15\n",
      "\u001b[1m17/17\u001b[0m \u001b[32m━━━━━━━━━━━━━━━━━━━━\u001b[0m\u001b[37m\u001b[0m \u001b[1m65s\u001b[0m 4s/step - accuracy: 0.8879 - loss: 0.2999 - val_accuracy: 1.0000 - val_loss: 0.0191\n",
      "Epoch 8/15\n",
      "\u001b[1m17/17\u001b[0m \u001b[32m━━━━━━━━━━━━━━━━━━━━\u001b[0m\u001b[37m\u001b[0m \u001b[1m8s\u001b[0m 266ms/step - accuracy: 0.8750 - loss: 0.2318 - val_accuracy: 1.0000 - val_loss: 0.0161\n",
      "Epoch 9/15\n",
      "\u001b[1m17/17\u001b[0m \u001b[32m━━━━━━━━━━━━━━━━━━━━\u001b[0m\u001b[37m\u001b[0m \u001b[1m68s\u001b[0m 4s/step - accuracy: 0.9505 - loss: 0.1354 - val_accuracy: 1.0000 - val_loss: 0.0124\n",
      "Epoch 10/15\n",
      "\u001b[1m17/17\u001b[0m \u001b[32m━━━━━━━━━━━━━━━━━━━━\u001b[0m\u001b[37m\u001b[0m \u001b[1m8s\u001b[0m 276ms/step - accuracy: 0.8750 - loss: 0.1766 - val_accuracy: 1.0000 - val_loss: 0.0138\n",
      "Epoch 11/15\n",
      "\u001b[1m17/17\u001b[0m \u001b[32m━━━━━━━━━━━━━━━━━━━━\u001b[0m\u001b[37m\u001b[0m \u001b[1m67s\u001b[0m 4s/step - accuracy: 0.9620 - loss: 0.0923 - val_accuracy: 1.0000 - val_loss: 0.0346\n",
      "Epoch 12/15\n",
      "\u001b[1m17/17\u001b[0m \u001b[32m━━━━━━━━━━━━━━━━━━━━\u001b[0m\u001b[37m\u001b[0m \u001b[1m8s\u001b[0m 277ms/step - accuracy: 0.9375 - loss: 0.1407 - val_accuracy: 1.0000 - val_loss: 0.0250\n",
      "Epoch 13/15\n",
      "\u001b[1m17/17\u001b[0m \u001b[32m━━━━━━━━━━━━━━━━━━━━\u001b[0m\u001b[37m\u001b[0m \u001b[1m67s\u001b[0m 4s/step - accuracy: 0.9278 - loss: 0.1541 - val_accuracy: 1.0000 - val_loss: 0.0087\n",
      "Epoch 14/15\n",
      "\u001b[1m17/17\u001b[0m \u001b[32m━━━━━━━━━━━━━━━━━━━━\u001b[0m\u001b[37m\u001b[0m \u001b[1m8s\u001b[0m 277ms/step - accuracy: 1.0000 - loss: 0.0307 - val_accuracy: 1.0000 - val_loss: 0.0081\n",
      "Epoch 15/15\n",
      "\u001b[1m17/17\u001b[0m \u001b[32m━━━━━━━━━━━━━━━━━━━━\u001b[0m\u001b[37m\u001b[0m \u001b[1m67s\u001b[0m 4s/step - accuracy: 0.9666 - loss: 0.1047 - val_accuracy: 1.0000 - val_loss: 0.0094\n",
      "[2025-01-15 15:23:57,261: WARNING: saving_api : You are saving your model as an HDF5 file via `model.save()` or `keras.saving.save_model(model)`. This file format is considered legacy. We recommend using instead the native Keras format, e.g. `model.save('my_model.keras')` or `keras.saving.save_model(model, 'my_model.keras')`. ]\n",
      "Model saved at artifacts/training/model.h5\n"
     ]
    }
   ],
   "source": [
    "from dataclasses import dataclass\n",
    "from pathlib import Path\n",
    "import os\n",
    "import tensorflow as tf\n",
    "from cnnClassifier.utils.common import read_yaml, create_directories\n",
    "\n",
    "@dataclass(frozen=True)\n",
    "class TrainingConfig:\n",
    "    root_dir: Path\n",
    "    trained_model_path: Path\n",
    "    updated_base_model_path: Path\n",
    "    training_data: Path\n",
    "    params_epochs: int\n",
    "    params_batch_size: int\n",
    "    params_is_augmentation: bool\n",
    "    params_image_size: list\n",
    "\n",
    "\n",
    "class ConfigurationManager:\n",
    "    def __init__(\n",
    "        self,\n",
    "        config_filepath=\"/Users/tejasredkar/Developer/Chest-Cancer-Prediction-using-ML-Flow-DVC/config/config.yaml\",\n",
    "        params_filepath=\"/Users/tejasredkar/Developer/Chest-Cancer-Prediction-using-ML-Flow-DVC/params.yaml\",\n",
    "    ):\n",
    "        # Convert string paths to Path objects\n",
    "        config_filepath = Path(config_filepath)\n",
    "        params_filepath = Path(params_filepath)\n",
    "\n",
    "        # Read configuration and parameters\n",
    "        self.config = read_yaml(config_filepath)\n",
    "        self.params = read_yaml(params_filepath)\n",
    "\n",
    "        # Create necessary directories\n",
    "        create_directories([self.config.artifacts_root])\n",
    "\n",
    "    def get_training_config(self) -> TrainingConfig:\n",
    "        training = self.config.training\n",
    "        prepare_base_model = self.config.prepare_base_model\n",
    "        params = self.params\n",
    "        training_data = os.path.join(self.config.data_ingestion.unzip_dir, \"Chest-CT-Scan-data\")\n",
    "        create_directories([Path(training.root_dir)])\n",
    "\n",
    "        training_config = TrainingConfig(\n",
    "            root_dir=Path(training.root_dir),\n",
    "            trained_model_path=Path(training.trained_model_path),\n",
    "            updated_base_model_path=Path(prepare_base_model.updated_base_model_path),\n",
    "            training_data=Path(training_data),\n",
    "            params_epochs=params.EPOCHS,\n",
    "            params_batch_size=params.BATCH_SIZE,\n",
    "            params_is_augmentation=params.AUGMENTATION,\n",
    "            params_image_size=params.IMAGE_SIZE,\n",
    "        )\n",
    "\n",
    "        return training_config\n",
    "\n",
    "\n",
    "class Training:\n",
    "    def __init__(self, config: TrainingConfig):\n",
    "        \"\"\"\n",
    "        Initializes the Training class with configuration settings.\n",
    "        \"\"\"\n",
    "        self.config = config\n",
    "        self.model = None\n",
    "        self.train_generator = None\n",
    "        self.valid_generator = None\n",
    "\n",
    "    def load_base_model(self):\n",
    "        \"\"\"\n",
    "        Load the base model from the specified path in the configuration.\n",
    "        \"\"\"\n",
    "        try:\n",
    "            self.model = tf.keras.models.load_model(self.config.updated_base_model_path)\n",
    "            print(f\"Base model loaded from {self.config.updated_base_model_path}\")\n",
    "        except Exception as e:\n",
    "            raise ValueError(f\"Error loading model from {self.config.updated_base_model_path}: {e}\")\n",
    "\n",
    "    def train_valid_generator(self):\n",
    "        \"\"\"\n",
    "        Set up the training and validation data generators.\n",
    "        \"\"\"\n",
    "        if not self.config.training_data.exists():\n",
    "            raise FileNotFoundError(f\"Training data directory does not exist: {self.config.training_data}\")\n",
    "\n",
    "        datagenerator_kwargs = dict(\n",
    "            rescale=1.0 / 255,\n",
    "            validation_split=0.20\n",
    "        )\n",
    "\n",
    "        dataflow_kwargs = dict(\n",
    "            target_size=self.config.params_image_size[:-1],\n",
    "            batch_size=self.config.params_batch_size,\n",
    "            interpolation=\"bilinear\"\n",
    "        )\n",
    "\n",
    "        # Validation generator\n",
    "        valid_datagenerator = tf.keras.preprocessing.image.ImageDataGenerator(**datagenerator_kwargs)\n",
    "        self.valid_generator = valid_datagenerator.flow_from_directory(\n",
    "            directory=str(self.config.training_data),\n",
    "            subset=\"validation\",\n",
    "            shuffle=False,\n",
    "            **dataflow_kwargs\n",
    "        )\n",
    "\n",
    "        # Training generator with augmentation if enabled\n",
    "        if self.config.params_is_augmentation:\n",
    "            train_datagenerator = tf.keras.preprocessing.image.ImageDataGenerator(\n",
    "                rotation_range=40,\n",
    "                horizontal_flip=True,\n",
    "                width_shift_range=0.2,\n",
    "                height_shift_range=0.2,\n",
    "                shear_range=0.2,\n",
    "                zoom_range=0.2,\n",
    "                **datagenerator_kwargs\n",
    "            )\n",
    "        else:\n",
    "            train_datagenerator = valid_datagenerator\n",
    "\n",
    "        self.train_generator = train_datagenerator.flow_from_directory(\n",
    "            directory=str(self.config.training_data),\n",
    "            subset=\"training\",\n",
    "            shuffle=True,\n",
    "            **dataflow_kwargs\n",
    "        )\n",
    "\n",
    "    @staticmethod\n",
    "    def save_model(path: Path, model: tf.keras.Model):\n",
    "        \"\"\"\n",
    "        Save the trained model to the specified path.\n",
    "        \"\"\"\n",
    "        try:\n",
    "            model.save(path)\n",
    "            print(f\"Model saved at {path}\")\n",
    "        except Exception as e:\n",
    "            raise ValueError(f\"Error saving model at {path}: {e}\")\n",
    "\n",
    "    def train(self):\n",
    "        \"\"\"\n",
    "        Train the model using the generators and save the trained model.\n",
    "        \"\"\"\n",
    "        if not self.model:\n",
    "            raise ValueError(\"Base model is not loaded. Call `load_base_model` first.\")\n",
    "\n",
    "        if not self.train_generator or not self.valid_generator:\n",
    "            raise ValueError(\"Data generators are not initialized. Call `train_valid_generator` first.\")\n",
    "\n",
    "        self.steps_per_epoch = self.train_generator.samples // self.train_generator.batch_size\n",
    "        self.validation_steps = self.valid_generator.samples // self.valid_generator.batch_size\n",
    "\n",
    "        print(f\"Starting training for {self.config.params_epochs} epochs...\")\n",
    "        self.model.compile(\n",
    "            optimizer=tf.keras.optimizers.Adam(),\n",
    "            loss=\"categorical_crossentropy\",\n",
    "            metrics=[\"accuracy\"]\n",
    "        )\n",
    "\n",
    "        self.model.fit(\n",
    "            self.train_generator,\n",
    "            epochs=self.config.params_epochs,\n",
    "            steps_per_epoch=self.steps_per_epoch,\n",
    "            validation_steps=self.validation_steps,\n",
    "            validation_data=self.valid_generator\n",
    "        )\n",
    "\n",
    "        self.save_model(path=self.config.trained_model_path, model=self.model)\n",
    "\n",
    "\n",
    "# Enable eager execution\n",
    "tf.config.run_functions_eagerly(True)\n",
    "\n",
    "# Main execution\n",
    "try:\n",
    "    config_manager = ConfigurationManager()\n",
    "    training_config = config_manager.get_training_config()\n",
    "    training_instance = Training(config=training_config)\n",
    "\n",
    "    training_instance.load_base_model()\n",
    "    training_instance.train_valid_generator()\n",
    "    training_instance.train()\n",
    "\n",
    "except Exception as e:\n",
    "    print(f\"Error: {e}\")\n"
   ]
  },
  {
   "cell_type": "code",
   "execution_count": null,
   "metadata": {},
   "outputs": [],
   "source": []
  }
 ],
 "metadata": {
  "kernelspec": {
   "display_name": "cancer-detection",
   "language": "python",
   "name": "python3"
  },
  "language_info": {
   "codemirror_mode": {
    "name": "ipython",
    "version": 3
   },
   "file_extension": ".py",
   "mimetype": "text/x-python",
   "name": "python",
   "nbconvert_exporter": "python",
   "pygments_lexer": "ipython3",
   "version": "3.11.0"
  }
 },
 "nbformat": 4,
 "nbformat_minor": 2
}
